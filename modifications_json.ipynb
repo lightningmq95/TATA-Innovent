{
 "cells": [
  {
   "cell_type": "code",
   "execution_count": 8,
   "metadata": {},
   "outputs": [
    {
     "name": "stdout",
     "output_type": "stream",
     "text": [
      "Car model column removed and text added to question key.\n"
     ]
    }
   ],
   "source": [
    "import pandas as pd\n",
    "import json\n",
    "\n",
    "# Load the JSON data\n",
    "with open('sumo.json', 'r') as file:\n",
    "    data = json.load(file)\n",
    "\n",
    "# Convert JSON data to a pandas DataFrame\n",
    "df = pd.DataFrame(data)\n",
    "\n",
    "# # Remove the car_model column if it exists\n",
    "# if 'car_model' in df.columns:\n",
    "#     df = df.drop(columns=['car_model'])\n",
    "\n",
    "# Prepend \"In Tata Punch, \" to all values in the question column and lowercase the first letter of the original question\n",
    "if 'prompt' in df.columns:\n",
    "    df['prompt'] = df['prompt'].apply(lambda x: f\"In Tata Sumo Gold, {x[0].lower() + x[1:]}\")\n",
    "\n",
    "# Convert the DataFrame back to JSON\n",
    "modified_data = df.to_dict(orient='records')\n",
    "\n",
    "# Save the modified JSON data to a file\n",
    "with open('modified_sumo.json', 'w') as file:\n",
    "    json.dump(modified_data, file, indent=4)\n",
    "\n",
    "print(\"Car model column removed and text added to question key.\")"
   ]
  },
  {
   "cell_type": "code",
   "execution_count": 9,
   "metadata": {},
   "outputs": [
    {
     "name": "stdout",
     "output_type": "stream",
     "text": [
      "Columns renamed successfully.\n"
     ]
    }
   ],
   "source": [
    "import pandas as pd\n",
    "import json\n",
    "\n",
    "# Load the JSON data\n",
    "with open('modified_punch.json', 'r') as file:\n",
    "    data = json.load(file)\n",
    "\n",
    "# Convert JSON data to a pandas DataFrame\n",
    "df = pd.DataFrame(data)\n",
    "\n",
    "# Rename the columns\n",
    "df = df.rename(columns={\n",
    "    'question': 'prompt',  # Replace with actual column names\n",
    "    'answer': 'response'   # Replace with actual column names\n",
    "})\n",
    "\n",
    "# Convert the DataFrame back to JSON\n",
    "modified_data = df.to_dict(orient='records')\n",
    "\n",
    "# Save the modified JSON data to a file\n",
    "with open('modified_punch1.json', 'w') as file:\n",
    "    json.dump(modified_data, file, indent=4)\n",
    "\n",
    "print(\"Columns renamed successfully.\")"
   ]
  }
 ],
 "metadata": {
  "kernelspec": {
   "display_name": "GG_2526",
   "language": "python",
   "name": "python3"
  },
  "language_info": {
   "codemirror_mode": {
    "name": "ipython",
    "version": 3
   },
   "file_extension": ".py",
   "mimetype": "text/x-python",
   "name": "python",
   "nbconvert_exporter": "python",
   "pygments_lexer": "ipython3",
   "version": "3.9.19"
  }
 },
 "nbformat": 4,
 "nbformat_minor": 2
}
