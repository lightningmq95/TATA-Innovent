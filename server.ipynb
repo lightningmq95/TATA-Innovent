{
 "cells": [
  {
   "cell_type": "code",
   "execution_count": 9,
   "metadata": {},
   "outputs": [],
   "source": [
    "from fastapi import FastAPI, HTTPException\n",
    "from fastapi.responses import HTMLResponse\n",
    "from fastapi.middleware.cors import CORSMiddleware\n",
    "from pyngrok import ngrok\n",
    "import nest_asyncio\n",
    "import uvicorn"
   ]
  },
  {
   "cell_type": "code",
   "execution_count": 5,
   "metadata": {},
   "outputs": [],
   "source": [
    "app = FastAPI()\n",
    "received_prompt = \"\"\n",
    "\n",
    "app.add_middleware(\n",
    "    CORSMiddleware,\n",
    "    allow_origins=['*'],\n",
    "    allow_credentials=True,\n",
    "    allow_methods=['*'],\n",
    "    allow_headers=['*'],\n",
    ")\n",
    "\n",
    "@app.post('/submit-prompt')\n",
    "async def submit_prompt(prompt_data: dict):\n",
    "    global received_prompt\n",
    "    try:\n",
    "        # Extract the prompt from the incoming JSON payload\n",
    "        input_text = prompt_data['prompt']\n",
    "        received_prompt = input_text\n",
    "        print(input_text)\n",
    "        return {\"message\": f\"Received prompt: {input_text}\"}\n",
    "    except KeyError:\n",
    "        raise HTTPException(status_code=400, detail=\"Prompt not found in request body\")\n",
    "\n",
    "@app.get('/', response_class=HTMLResponse)\n",
    "async def root():\n",
    "    return f\"<html><body><h1>{received_prompt}</h1></body></html>\""
   ]
  },
  {
   "cell_type": "code",
   "execution_count": 6,
   "metadata": {},
   "outputs": [
    {
     "name": "stderr",
     "output_type": "stream",
     "text": [
      "INFO:     Started server process [7760]\n",
      "INFO:     Waiting for application startup.\n",
      "INFO:     Application startup complete.\n",
      "INFO:     Uvicorn running on http://127.0.0.1:8000 (Press CTRL+C to quit)\n"
     ]
    },
    {
     "name": "stdout",
     "output_type": "stream",
     "text": [
      "Public URL: https://peaceful-personally-tadpole.ngrok-free.app\n",
      "In Tata Punch, how do this\n",
      "INFO:     2401:4900:1c7e:1831:1814:e5a3:dfcb:f5c7:0 - \"POST /submit-prompt HTTP/1.1\" 200 OK\n"
     ]
    },
    {
     "name": "stderr",
     "output_type": "stream",
     "text": [
      "INFO:     Shutting down\n",
      "INFO:     Waiting for application shutdown.\n",
      "INFO:     Application shutdown complete.\n",
      "INFO:     Finished server process [7760]\n"
     ]
    }
   ],
   "source": [
    "# Get your authtoken from https://dashboard.ngrok.com/get-started/your-authtoken\n",
    "auth_token = \"2jomqKcchgXe2FCWs69mV1tAFwG_35XAms6dCCEztbwKiWKmA\"\n",
    "\n",
    "# Set the authtoken\n",
    "ngrok.set_auth_token(auth_token)\n",
    "\n",
    "ngrok_tunnel = ngrok.connect(8000, domain=\"peaceful-personally-tadpole.ngrok-free.app\")\n",
    "print('Public URL:', ngrok_tunnel.public_url)\n",
    "nest_asyncio.apply()\n",
    "uvicorn.run(app, port=8000)"
   ]
  }
 ],
 "metadata": {
  "kernelspec": {
   "display_name": "GG_2526",
   "language": "python",
   "name": "python3"
  },
  "language_info": {
   "codemirror_mode": {
    "name": "ipython",
    "version": 3
   },
   "file_extension": ".py",
   "mimetype": "text/x-python",
   "name": "python",
   "nbconvert_exporter": "python",
   "pygments_lexer": "ipython3",
   "version": "3.9.19"
  }
 },
 "nbformat": 4,
 "nbformat_minor": 2
}
